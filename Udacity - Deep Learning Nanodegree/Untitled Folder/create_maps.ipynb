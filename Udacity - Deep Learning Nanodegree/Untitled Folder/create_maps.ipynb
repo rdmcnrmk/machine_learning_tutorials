{
 "cells": [
  {
   "cell_type": "code",
   "execution_count": 184,
   "metadata": {},
   "outputs": [],
   "source": [
    "from PIL import Image\n",
    "from itertools import cycle\n",
    "import random\n",
    "import numpy as np\n"
   ]
  },
  {
   "cell_type": "code",
   "execution_count": 185,
   "metadata": {},
   "outputs": [],
   "source": [
    "max_floors = 600\n",
    "no_direction_threshold = 40\n",
    "turn_left_threshold = 60\n",
    "turn_right_threshold = 80\n",
    "\n",
    "last_floor_position = [10, 10]\n",
    "directions = [[1, 0], [0, -1], [-1, 0], [0, 1]]\n",
    "\n",
    "width = 64\n",
    "height = 64"
   ]
  },
  {
   "cell_type": "code",
   "execution_count": 186,
   "metadata": {},
   "outputs": [],
   "source": [
    "img = Image.new('RGB', (width, height), color = 'black')\n",
    "img = Image.new('L', (width, height), color = 'black')\n"
   ]
  },
  {
   "cell_type": "code",
   "execution_count": 187,
   "metadata": {},
   "outputs": [],
   "source": [
    "img.save('pil_red.png')"
   ]
  },
  {
   "cell_type": "code",
   "execution_count": 188,
   "metadata": {},
   "outputs": [],
   "source": [
    "def rotate_direction(dir, is_clockwise):\n",
    "    ind = directions.index(dir)\n",
    "    \n",
    "    if is_clockwise:\n",
    "        return directions[(ind+1)%len(directions)]\n",
    "    else:\n",
    "        return directions[ind-1]"
   ]
  },
  {
   "cell_type": "code",
   "execution_count": 189,
   "metadata": {
    "scrolled": false
   },
   "outputs": [],
   "source": [
    "def create_floor_matrix(last_floor_position, width, height):\n",
    "    dir = [1, 0]\n",
    "    result = [[ False for i in range(width) ] for j in range(height) ]\n",
    "\n",
    "\n",
    "    i = 0\n",
    "    while i < max_floors:\n",
    "        rand = random.uniform(0, 100)\n",
    "\n",
    "        if rand < no_direction_threshold:\n",
    "            pass\n",
    "        elif rand >= no_direction_threshold and rand < turn_left_threshold:\n",
    "            dir = rotate_direction(dir, True)\n",
    "        elif rand >= turn_left_threshold and rand < turn_right_threshold:\n",
    "            dir = rotate_direction(dir, False);\n",
    "        else:\n",
    "            dir = rotate_direction(dir, True);\n",
    "            dir = rotate_direction(dir, True);\n",
    "        \n",
    "        if result[last_floor_position[0]][last_floor_position[1]] == False:\n",
    "            result[last_floor_position[0]][last_floor_position[1]] = True\n",
    "\n",
    "        i += 1\n",
    "        temp = [last_floor_position[0] + dir[0], last_floor_position[1] + dir[1]] \n",
    "              \n",
    "        if temp[0] < 0 or temp[1] < 0 or temp[0] >= width or temp[1] >= height: \n",
    "            pass\n",
    "        else:\n",
    "            last_floor_position[0] += dir[0]\n",
    "            last_floor_position[1] += dir[1]\n",
    "            \n",
    "    return result\n",
    "\n",
    "\n",
    "\n",
    "\n"
   ]
  },
  {
   "cell_type": "code",
   "execution_count": 190,
   "metadata": {},
   "outputs": [],
   "source": [
    "def img_frombytes(data):\n",
    "    size = data.shape[::-1]\n",
    "    databytes = np.packbits(data, axis=1)\n",
    "    return Image.frombytes(mode='1', size=size, data=databytes)"
   ]
  },
  {
   "cell_type": "code",
   "execution_count": 191,
   "metadata": {},
   "outputs": [],
   "source": [
    "def create_maps(img_count):\n",
    "    for i in range(img_count):\n",
    "        r = create_floor_matrix([32, 32], width, height)\n",
    "        np_r = np.array(r)\n",
    "        img = img_frombytes(np_r)\n",
    "        img.save(\"maps/0/map_\" + str(i) + \".png\")\n",
    "\n"
   ]
  },
  {
   "cell_type": "code",
   "execution_count": 193,
   "metadata": {},
   "outputs": [],
   "source": [
    "create_maps(1000)"
   ]
  },
  {
   "cell_type": "code",
   "execution_count": null,
   "metadata": {},
   "outputs": [],
   "source": []
  }
 ],
 "metadata": {
  "kernelspec": {
   "display_name": "Python 3",
   "language": "python",
   "name": "python3"
  },
  "language_info": {
   "codemirror_mode": {
    "name": "ipython",
    "version": 3
   },
   "file_extension": ".py",
   "mimetype": "text/x-python",
   "name": "python",
   "nbconvert_exporter": "python",
   "pygments_lexer": "ipython3",
   "version": "3.7.6"
  }
 },
 "nbformat": 4,
 "nbformat_minor": 4
}
